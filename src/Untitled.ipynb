{
 "cells": [
  {
   "cell_type": "code",
   "execution_count": null,
   "id": "f9b5386d-9f48-46ea-9fc8-61c878b3fe44",
   "metadata": {},
   "outputs": [],
   "source": []
  },
  {
   "cell_type": "code",
   "execution_count": 22,
   "id": "03719091-687e-4e0c-bb8a-0d44e1b11efa",
   "metadata": {},
   "outputs": [
    {
     "name": "stdout",
     "output_type": "stream",
     "text": [
      "2\n"
     ]
    }
   ],
   "source": [
    "\"\"\"\n",
    "Create a function that counts the number\n",
    "of words in a string\n",
    "\"\"\"\n",
    "\n",
    "\n",
    "def count_words(text):\n",
    "    if not isinstance(text, str):\n",
    "        raise TypeError(\"only accepts strings\")\n",
    "    return len(text.split())\n",
    "\n",
    "\n",
    "if __name__ == \"__main__\":\n",
    "    text = \"evelyn\\ntosin\"\n",
    "    print(count_words(text))"
   ]
  },
  {
   "cell_type": "code",
   "execution_count": 2,
   "id": "a890007c-0043-4ddb-b821-048b2648f2ef",
   "metadata": {},
   "outputs": [],
   "source": [
    "import pytest\n",
    "from word_processor import count_words\n",
    "\n",
    "\n",
    "class TestWordProcessor:\n",
    "    ONE_WORD = \"Everline\"\n",
    "\n",
    "    def test_one_word(self):\n",
    "        assert count_words(TestWordProcessor.ONE_WORD) == 1\n",
    "\n",
    "    def test_two_words(self):\n",
    "        assert count_words(\"He comes\") == 2\n",
    "\n",
    "    def test_type_error(self):\n",
    "        text = [\"I am in class\"]\n",
    "        with pytest.raises(TypeError) as type_error:\n",
    "            assert count_words(text) == 4\n",
    "        assert \"only accepts strings\" in str(type_error.value)\n",
    "\n",
    "    def test_accents(self):\n",
    "        assert count_words(\"straße 15 in üoö+p\") == 4\n",
    "\n",
    "    def test_html(self):\n",
    "        text = '<h1>This is a heading</h>'\n",
    "        assert count_words(text) == 4\n",
    "\n",
    "    def test_html_with_attributes(self):\n",
    "        text = '<h1 class=\"foo\">This is a heading</h>'\n",
    "        assert count_words(text) == 5\n",
    "\n",
    "    def test_linebreaks(self):\n",
    "        text = \"Tosin\\nKetan\\nTobi\"\n",
    "        assert count_words(text) == 3\n"
   ]
  },
  {
   "cell_type": "code",
   "execution_count": null,
   "id": "5532cf3f-c5a5-4471-9916-f2336dbff2d2",
   "metadata": {},
   "outputs": [],
   "source": []
  }
 ],
 "metadata": {
  "kernelspec": {
   "display_name": "Python 3",
   "language": "python",
   "name": "python3"
  },
  "language_info": {
   "codemirror_mode": {
    "name": "ipython",
    "version": 3
   },
   "file_extension": ".py",
   "mimetype": "text/x-python",
   "name": "python",
   "nbconvert_exporter": "python",
   "pygments_lexer": "ipython3",
   "version": "3.8.8"
  }
 },
 "nbformat": 4,
 "nbformat_minor": 5
}
